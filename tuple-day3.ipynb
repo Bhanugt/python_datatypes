{
 "cells": [
  {
   "cell_type": "code",
   "execution_count": 1,
   "id": "506e1ee6-e10e-4bc4-a536-670daa7cdb43",
   "metadata": {},
   "outputs": [
    {
     "data": {
      "text/plain": [
       "(30, 40, 50, 60, 40, 40, 30, 60, 50, 40, 90, 50, 90)"
      ]
     },
     "execution_count": 1,
     "metadata": {},
     "output_type": "execute_result"
    }
   ],
   "source": [
    "h =(30,40,50,60,40,40,30,60,50,40,90,50,90)\n",
    "h"
   ]
  },
  {
   "cell_type": "code",
   "execution_count": 2,
   "id": "5dd5a888-cd8a-4302-a21a-99e051834537",
   "metadata": {},
   "outputs": [
    {
     "data": {
      "text/plain": [
       "4"
      ]
     },
     "execution_count": 2,
     "metadata": {},
     "output_type": "execute_result"
    }
   ],
   "source": [
    "h.count(40)\n"
   ]
  },
  {
   "cell_type": "code",
   "execution_count": 3,
   "id": "3dd578fa-6ac3-47d6-97a5-66629097bcc3",
   "metadata": {},
   "outputs": [
    {
     "data": {
      "text/plain": [
       "2"
      ]
     },
     "execution_count": 3,
     "metadata": {},
     "output_type": "execute_result"
    }
   ],
   "source": [
    "h.index(50)"
   ]
  },
  {
   "cell_type": "code",
   "execution_count": 4,
   "id": "faf2d5f3-53af-4dc4-853a-67eba89e5d14",
   "metadata": {},
   "outputs": [
    {
     "data": {
      "text/plain": [
       "tuple"
      ]
     },
     "execution_count": 4,
     "metadata": {},
     "output_type": "execute_result"
    }
   ],
   "source": [
    "type(h)"
   ]
  },
  {
   "cell_type": "code",
   "execution_count": 5,
   "id": "e8866f0e-1f8c-42ba-9f96-c293c52c724c",
   "metadata": {},
   "outputs": [
    {
     "data": {
      "text/plain": [
       "(30, 40, 50, 60, 40)"
      ]
     },
     "execution_count": 5,
     "metadata": {},
     "output_type": "execute_result"
    }
   ],
   "source": [
    "h[0:5]"
   ]
  },
  {
   "cell_type": "code",
   "execution_count": 18,
   "id": "d08c3587-008b-4aad-af95-acd870a4ee4a",
   "metadata": {},
   "outputs": [
    {
     "data": {
      "text/plain": [
       "{45, 55, 63, 93, 98}"
      ]
     },
     "execution_count": 18,
     "metadata": {},
     "output_type": "execute_result"
    }
   ],
   "source": [
    "s = {45, 63, 55, 98, 55, 98, 45, 93}\n",
    "s\n"
   ]
  },
  {
   "cell_type": "code",
   "execution_count": 22,
   "id": "f2579dc8-f226-446f-9673-6fb3cb9f536e",
   "metadata": {},
   "outputs": [
    {
     "data": {
      "text/plain": [
       "{55, 65, 78, 98}"
      ]
     },
     "execution_count": 22,
     "metadata": {},
     "output_type": "execute_result"
    }
   ],
   "source": [
    "y = {55, 78, 65, 78, 98}\n",
    "y"
   ]
  },
  {
   "cell_type": "code",
   "execution_count": 23,
   "id": "e49d5ab5-0310-4d42-8292-304ffdf3d423",
   "metadata": {},
   "outputs": [
    {
     "data": {
      "text/plain": [
       "{55, 98}"
      ]
     },
     "execution_count": 23,
     "metadata": {},
     "output_type": "execute_result"
    }
   ],
   "source": [
    "s.intersection(y)"
   ]
  },
  {
   "cell_type": "code",
   "execution_count": 24,
   "id": "e4be3405-1729-439a-8408-639c325516b3",
   "metadata": {},
   "outputs": [
    {
     "data": {
      "text/plain": [
       "{45, 63, 93}"
      ]
     },
     "execution_count": 24,
     "metadata": {},
     "output_type": "execute_result"
    }
   ],
   "source": [
    "s.difference(y)"
   ]
  },
  {
   "cell_type": "code",
   "execution_count": 25,
   "id": "1d447661-cd64-480a-9d08-a12aa7a5a5b6",
   "metadata": {},
   "outputs": [
    {
     "data": {
      "text/plain": [
       "{65, 78}"
      ]
     },
     "execution_count": 25,
     "metadata": {},
     "output_type": "execute_result"
    }
   ],
   "source": [
    "y.difference(s)"
   ]
  },
  {
   "cell_type": "code",
   "execution_count": null,
   "id": "aee3728a-ced0-4980-8627-38a4bc96bab2",
   "metadata": {},
   "outputs": [],
   "source": []
  },
  {
   "cell_type": "code",
   "execution_count": 30,
   "id": "278dd249-e2f0-4ede-b51a-c5ad7ac51791",
   "metadata": {},
   "outputs": [
    {
     "data": {
      "text/plain": [
       "{45, 63, 85, 93, 96}"
      ]
     },
     "execution_count": 30,
     "metadata": {},
     "output_type": "execute_result"
    }
   ],
   "source": [
    "s = {45, 96, 93, 63, 85}\n",
    "s"
   ]
  },
  {
   "cell_type": "code",
   "execution_count": 33,
   "id": "a461c41d-8f3c-4dd8-b129-2d43fdd6d955",
   "metadata": {},
   "outputs": [
    {
     "data": {
      "text/plain": [
       "[96, 93, 85, 45, 63]"
      ]
     },
     "execution_count": 33,
     "metadata": {},
     "output_type": "execute_result"
    }
   ],
   "source": [
    "list(s)"
   ]
  },
  {
   "cell_type": "code",
   "execution_count": 34,
   "id": "2f927d09-3281-4473-9f7e-fad61cbeef9d",
   "metadata": {},
   "outputs": [
    {
     "data": {
      "text/plain": [
       "[10, 30, 50, 60]"
      ]
     },
     "execution_count": 34,
     "metadata": {},
     "output_type": "execute_result"
    }
   ],
   "source": [
    "t = [10, 30, 50, 60]\n",
    "t"
   ]
  },
  {
   "cell_type": "code",
   "execution_count": 36,
   "id": "cf0b53be-5697-45a0-b288-7c83124f41e0",
   "metadata": {},
   "outputs": [
    {
     "data": {
      "text/plain": [
       "(10, 30, 50, 60)"
      ]
     },
     "execution_count": 36,
     "metadata": {},
     "output_type": "execute_result"
    }
   ],
   "source": [
    "tuple(t)"
   ]
  },
  {
   "cell_type": "code",
   "execution_count": 37,
   "id": "31d86643-a828-4442-b844-11faae7e3a01",
   "metadata": {},
   "outputs": [
    {
     "data": {
      "text/plain": [
       "{43, 67, 87, 98}"
      ]
     },
     "execution_count": 37,
     "metadata": {},
     "output_type": "execute_result"
    }
   ],
   "source": [
    "y = {43, 87, 98, 67, 67}\n",
    "y"
   ]
  },
  {
   "cell_type": "code",
   "execution_count": 39,
   "id": "d12cf495-9ea1-4b5c-afc3-50955cee53dc",
   "metadata": {},
   "outputs": [
    {
     "data": {
      "text/plain": [
       "set()"
      ]
     },
     "execution_count": 39,
     "metadata": {},
     "output_type": "execute_result"
    }
   ],
   "source": [
    "s.intersection(y)"
   ]
  },
  {
   "cell_type": "code",
   "execution_count": null,
   "id": "c9040c39-cd24-421e-97a4-fb3e79bdb132",
   "metadata": {},
   "outputs": [],
   "source": []
  }
 ],
 "metadata": {
  "kernelspec": {
   "display_name": "Python 3 (ipykernel)",
   "language": "python",
   "name": "python3"
  },
  "language_info": {
   "codemirror_mode": {
    "name": "ipython",
    "version": 3
   },
   "file_extension": ".py",
   "mimetype": "text/x-python",
   "name": "python",
   "nbconvert_exporter": "python",
   "pygments_lexer": "ipython3",
   "version": "3.13.0"
  }
 },
 "nbformat": 4,
 "nbformat_minor": 5
}
