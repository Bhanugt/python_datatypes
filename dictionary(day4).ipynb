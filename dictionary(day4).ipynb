{
 "cells": [
  {
   "cell_type": "code",
   "execution_count": 1,
   "id": "ccab9ed0-d651-43c4-86a5-1dc9b2a17605",
   "metadata": {},
   "outputs": [
    {
     "data": {
      "text/plain": [
       "{101: 1, 104: 2, 105: 3}"
      ]
     },
     "execution_count": 1,
     "metadata": {},
     "output_type": "execute_result"
    }
   ],
   "source": [
    "a={101: 1, 104: 2, 105: 3}\n",
    "a"
   ]
  },
  {
   "cell_type": "code",
   "execution_count": 2,
   "id": "8492ad86-27c8-4a35-93c3-67db08372a60",
   "metadata": {},
   "outputs": [
    {
     "data": {
      "text/plain": [
       "1"
      ]
     },
     "execution_count": 2,
     "metadata": {},
     "output_type": "execute_result"
    }
   ],
   "source": [
    "a[101]"
   ]
  },
  {
   "cell_type": "code",
   "execution_count": 3,
   "id": "2ab04c1d-5059-4261-8ffa-6c3f5ab8abd1",
   "metadata": {},
   "outputs": [
    {
     "data": {
      "text/plain": [
       "{'name': 'Gautham', 'id': 65, 'age': 14}"
      ]
     },
     "execution_count": 3,
     "metadata": {},
     "output_type": "execute_result"
    }
   ],
   "source": [
    "b ={'name': 'Gautham', 'id': 65, 'age': 14}\n",
    "b"
   ]
  },
  {
   "cell_type": "code",
   "execution_count": 79,
   "id": "4159102a-83bf-4bea-b40e-3aa22ba29928",
   "metadata": {},
   "outputs": [],
   "source": [
    "b['id'] = 93\n"
   ]
  },
  {
   "cell_type": "code",
   "execution_count": 5,
   "id": "4fa3bf40-e803-48f8-98f0-a43124fede9a",
   "metadata": {},
   "outputs": [
    {
     "data": {
      "text/plain": [
       "{'name': 'Gautham', 'id': 93, 'age': 14}"
      ]
     },
     "execution_count": 5,
     "metadata": {},
     "output_type": "execute_result"
    }
   ],
   "source": [
    "b"
   ]
  },
  {
   "cell_type": "code",
   "execution_count": 81,
   "id": "6af50950-0302-4209-9117-3c44aeea699d",
   "metadata": {},
   "outputs": [
    {
     "data": {
      "text/plain": [
       "{'name': 'Gautham', 'id': 93, 'age': 18}"
      ]
     },
     "execution_count": 81,
     "metadata": {},
     "output_type": "execute_result"
    }
   ],
   "source": [
    "b.update({'age': 18})\n",
    "b"
   ]
  },
  {
   "cell_type": "code",
   "execution_count": 82,
   "id": "fe468063-e7bf-41ff-a9e6-b3422502c97c",
   "metadata": {},
   "outputs": [
    {
     "data": {
      "text/plain": [
       "{'name': 'Gautham', 'id': 65, 'age': 18}"
      ]
     },
     "execution_count": 82,
     "metadata": {},
     "output_type": "execute_result"
    }
   ],
   "source": [
    "b.update({'id': 65})\n",
    "b"
   ]
  },
  {
   "cell_type": "code",
   "execution_count": 88,
   "id": "7733adeb-c367-448f-a7f7-10b1fb109e42",
   "metadata": {},
   "outputs": [
    {
     "data": {
      "text/plain": [
       "{501: 89, 502: 6, 'id': 63}"
      ]
     },
     "execution_count": 88,
     "metadata": {},
     "output_type": "execute_result"
    }
   ],
   "source": [
    "#Dictionary does not allows duplicate keys\n",
    "d = {501: 4, 502: 6, 'id': 63, 501: 89} \n",
    "d"
   ]
  },
  {
   "cell_type": "code",
   "execution_count": 89,
   "id": "9fd62f41-b54c-406d-a281-af3f47c452b0",
   "metadata": {},
   "outputs": [
    {
     "data": {
      "text/plain": [
       "{501: 89, 502: 6, 'id': 96}"
      ]
     },
     "execution_count": 89,
     "metadata": {},
     "output_type": "execute_result"
    }
   ],
   "source": [
    "#Dictionary allows duplicate values\n",
    "d.update({'id': 96})\n",
    "d"
   ]
  },
  {
   "cell_type": "code",
   "execution_count": 90,
   "id": "9fef3962-d98e-4531-9042-8524ed9249cf",
   "metadata": {},
   "outputs": [
    {
     "data": {
      "text/plain": [
       "6"
      ]
     },
     "execution_count": 90,
     "metadata": {},
     "output_type": "execute_result"
    }
   ],
   "source": [
    "d.get(502)\n"
   ]
  },
  {
   "cell_type": "code",
   "execution_count": 91,
   "id": "196fd00f-2db3-4ba4-9a27-2abd55104340",
   "metadata": {},
   "outputs": [
    {
     "data": {
      "text/plain": [
       "dict_keys([501, 502, 'id'])"
      ]
     },
     "execution_count": 91,
     "metadata": {},
     "output_type": "execute_result"
    }
   ],
   "source": [
    "d.keys()\n",
    "\n"
   ]
  },
  {
   "cell_type": "code",
   "execution_count": 92,
   "id": "4400ff6c-4a0b-4055-bc54-da3c5ffefe10",
   "metadata": {},
   "outputs": [
    {
     "data": {
      "text/plain": [
       "dict_values([89, 6, 96])"
      ]
     },
     "execution_count": 92,
     "metadata": {},
     "output_type": "execute_result"
    }
   ],
   "source": [
    "d.values()\n"
   ]
  },
  {
   "cell_type": "code",
   "execution_count": 93,
   "id": "3bf55564-e631-48a8-aa46-7fff58d6ecf9",
   "metadata": {},
   "outputs": [
    {
     "data": {
      "text/plain": [
       "dict_values([89, 6, 96])"
      ]
     },
     "execution_count": 93,
     "metadata": {},
     "output_type": "execute_result"
    }
   ],
   "source": [
    "d.values()"
   ]
  },
  {
   "cell_type": "code",
   "execution_count": 95,
   "id": "9d1b2986-d29b-47c7-b36f-eddb725f757f",
   "metadata": {},
   "outputs": [
    {
     "data": {
      "text/plain": [
       "{501: 89, 502: 6, 'id': 96, 100: [1200, 2000, 3000, 400]}"
      ]
     },
     "execution_count": 95,
     "metadata": {},
     "output_type": "execute_result"
    }
   ],
   "source": [
    "d[100] = [1200, 2000, 3000, 400]\n",
    "d"
   ]
  },
  {
   "cell_type": "code",
   "execution_count": 96,
   "id": "a3e72c74-07c2-4b5a-9811-83e88fbde77f",
   "metadata": {},
   "outputs": [
    {
     "data": {
      "text/plain": [
       "dict"
      ]
     },
     "execution_count": 96,
     "metadata": {},
     "output_type": "execute_result"
    }
   ],
   "source": [
    "type(d)"
   ]
  },
  {
   "cell_type": "code",
   "execution_count": 97,
   "id": "df0f260b-f684-4703-95c6-4de47298f271",
   "metadata": {},
   "outputs": [],
   "source": [
    "d[501]={4:[5, 6, 7, 8], 'apple':(20, 40, 60,[90, 270,360])}\n"
   ]
  },
  {
   "cell_type": "code",
   "execution_count": 98,
   "id": "ca2f732a-5253-40eb-bc08-c89999db865b",
   "metadata": {},
   "outputs": [
    {
     "data": {
      "text/plain": [
       "{501: {4: [5, 6, 7, 8], 'apple': (20, 40, 60, [90, 270, 360])},\n",
       " 502: 6,\n",
       " 'id': 96,\n",
       " 100: [1200, 2000, 3000, 400]}"
      ]
     },
     "execution_count": 98,
     "metadata": {},
     "output_type": "execute_result"
    }
   ],
   "source": [
    "d"
   ]
  },
  {
   "cell_type": "code",
   "execution_count": 99,
   "id": "de1c1f3e-c13e-4198-bd92-a142ad5d2f19",
   "metadata": {},
   "outputs": [],
   "source": [
    "d[502]={'b':{34, 56, 89}, 'c': (78, 89, 42), 'd': ['e', {'L': [12, 14], 'M': (56, 98)}, 'N']}"
   ]
  },
  {
   "cell_type": "code",
   "execution_count": null,
   "id": "ecd619ea-ba29-4e66-bd7d-a7e3740c9963",
   "metadata": {},
   "outputs": [],
   "source": []
  },
  {
   "cell_type": "code",
   "execution_count": null,
   "id": "c054fef7-680e-4045-adae-6188ee680989",
   "metadata": {},
   "outputs": [],
   "source": []
  },
  {
   "cell_type": "code",
   "execution_count": null,
   "id": "63b825f9-f615-4b56-b806-8e55ad111e2d",
   "metadata": {},
   "outputs": [],
   "source": []
  }
 ],
 "metadata": {
  "kernelspec": {
   "display_name": "Python 3 (ipykernel)",
   "language": "python",
   "name": "python3"
  },
  "language_info": {
   "codemirror_mode": {
    "name": "ipython",
    "version": 3
   },
   "file_extension": ".py",
   "mimetype": "text/x-python",
   "name": "python",
   "nbconvert_exporter": "python",
   "pygments_lexer": "ipython3",
   "version": "3.13.0"
  }
 },
 "nbformat": 4,
 "nbformat_minor": 5
}
