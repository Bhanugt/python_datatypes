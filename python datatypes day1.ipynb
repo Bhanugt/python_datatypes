{
  "nbformat": 4,
  "nbformat_minor": 0,
  "metadata": {
    "colab": {
      "provenance": [],
      "mount_file_id": "1spNhBrdIU56Yrg3jrCO861ss4sQNpddB",
      "authorship_tag": "ABX9TyOYILvU44YZaLsF7P8aHED/",
      "include_colab_link": true
    },
    "kernelspec": {
      "name": "python3",
      "display_name": "Python 3"
    },
    "language_info": {
      "name": "python"
    }
  },
  "cells": [
    {
      "cell_type": "markdown",
      "metadata": {
        "id": "view-in-github",
        "colab_type": "text"
      },
      "source": [
        "<a href=\"https://colab.research.google.com/github/Bhanugt/python_datatypes/blob/main/python%20datatypes%20day1.ipynb\" target=\"_parent\"><img src=\"https://colab.research.google.com/assets/colab-badge.svg\" alt=\"Open In Colab\"/></a>"
      ]
    },
    {
      "cell_type": "markdown",
      "source": [],
      "metadata": {
        "id": "_1vy0IDxYHvX"
      }
    },
    {
      "cell_type": "code",
      "source": [
        "#python program to take input from user\n",
        "a = int(input(\"Enter your first value:\"))\n",
        "b = int(input(\"Enter your second value:\"))\n",
        "result = a + b\n",
        "print(result)"
      ],
      "metadata": {
        "colab": {
          "base_uri": "https://localhost:8080/"
        },
        "id": "qGp9ntCdb21U",
        "outputId": "ac848c78-f545-4d3d-9ce0-dde60b6e3640"
      },
      "execution_count": 9,
      "outputs": [
        {
          "output_type": "stream",
          "name": "stdout",
          "text": [
            "Enter your first value:93\n",
            "Enter your second value:63\n",
            "156\n"
          ]
        }
      ]
    }
  ]
}